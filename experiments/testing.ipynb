{
 "cells": [
  {
   "cell_type": "code",
   "execution_count": 1,
   "metadata": {},
   "outputs": [
    {
     "name": "stdout",
     "output_type": "stream",
     "text": [
      "WARNING:tensorflow:From c:\\Users\\tchoudhury\\AppData\\Local\\anaconda3\\Lib\\site-packages\\tf_keras\\src\\losses.py:2976: The name tf.losses.sparse_softmax_cross_entropy is deprecated. Please use tf.compat.v1.losses.sparse_softmax_cross_entropy instead.\n",
      "\n"
     ]
    }
   ],
   "source": [
    "import os\n",
    "import sys\n",
    "sys.path.append('verifair.py')\n",
    "from verifair import FNR\n",
    "from verifair import FPR"
   ]
  },
  {
   "cell_type": "code",
   "execution_count": 2,
   "metadata": {},
   "outputs": [],
   "source": [
    "# Get subdirectories \n",
    "dataset_dir = 'monk'\n",
    "subfolders = sorted([f for f in os.listdir(dataset_dir) if os.path.isdir(os.path.join(dataset_dir, f))])"
   ]
  },
  {
   "cell_type": "code",
   "execution_count": 3,
   "metadata": {},
   "outputs": [
    {
     "name": "stderr",
     "output_type": "stream",
     "text": [
      "Processing pairs: 100%|██████████| 132/132 [01:00<00:00,  2.18pair/s]\n"
     ]
    },
    {
     "name": "stdout",
     "output_type": "stream",
     "text": [
      "Total possible pairs: 132\n",
      "Processed pairs: 132\n",
      "Mean FNR: 0.0000%\n",
      "Logged FNR result: 0.0000% in verification_results.yaml\n"
     ]
    },
    {
     "name": "stderr",
     "output_type": "stream",
     "text": [
      "Processing pairs: 100%|██████████| 144/144 [00:59<00:00,  2.42pair/s]\n"
     ]
    },
    {
     "name": "stdout",
     "output_type": "stream",
     "text": [
      "Total possible pairs: 144\n",
      "Processed pairs: 144\n",
      "Mean FPR: 9.0278%\n",
      "Logged FPR result: 9.0278% in verification_results.yaml\n"
     ]
    },
    {
     "name": "stderr",
     "output_type": "stream",
     "text": [
      "Processing pairs: 100%|██████████| 66/66 [00:46<00:00,  1.40pair/s]\n"
     ]
    },
    {
     "name": "stdout",
     "output_type": "stream",
     "text": [
      "Total possible pairs: 66\n",
      "Processed pairs: 66\n",
      "Mean FNR: 0.0000%\n",
      "Logged FNR result: 0.0000% in verification_results.yaml\n"
     ]
    },
    {
     "name": "stderr",
     "output_type": "stream",
     "text": [
      "Processing pairs: 0pair [00:00, ?pair/s]"
     ]
    },
    {
     "name": "stdout",
     "output_type": "stream",
     "text": [
      "Total possible pairs: 0\n",
      "Processed pairs: 0\n",
      "Mean FPR: 0.0000%\n",
      "Logged FPR result: 0.0000% in verification_results.yaml\n"
     ]
    },
    {
     "name": "stderr",
     "output_type": "stream",
     "text": [
      "\n",
      "Processing pairs: 100%|██████████| 198/198 [01:09<00:00,  2.83pair/s]\n"
     ]
    },
    {
     "name": "stdout",
     "output_type": "stream",
     "text": [
      "Total possible pairs: 198\n",
      "Processed pairs: 198\n",
      "Mean FNR: 1.0101%\n",
      "Logged FNR result: 1.0101% in verification_results.yaml\n"
     ]
    },
    {
     "name": "stderr",
     "output_type": "stream",
     "text": [
      "Processing pairs: 100%|██████████| 432/432 [01:54<00:00,  3.76pair/s]\n"
     ]
    },
    {
     "name": "stdout",
     "output_type": "stream",
     "text": [
      "Total possible pairs: 432\n",
      "Processed pairs: 432\n",
      "Mean FPR: 7.1759%\n",
      "Logged FPR result: 7.1759% in verification_results.yaml\n"
     ]
    },
    {
     "name": "stderr",
     "output_type": "stream",
     "text": [
      "Processing pairs: 100%|██████████| 132/132 [01:09<00:00,  1.90pair/s]\n"
     ]
    },
    {
     "name": "stdout",
     "output_type": "stream",
     "text": [
      "Total possible pairs: 132\n",
      "Processed pairs: 132\n",
      "Mean FNR: 0.7576%\n",
      "Logged FNR result: 0.7576% in verification_results.yaml\n"
     ]
    },
    {
     "name": "stderr",
     "output_type": "stream",
     "text": [
      "Processing pairs: 100%|██████████| 144/144 [01:08<00:00,  2.09pair/s]\n"
     ]
    },
    {
     "name": "stdout",
     "output_type": "stream",
     "text": [
      "Total possible pairs: 144\n",
      "Processed pairs: 144\n",
      "Mean FPR: 6.9444%\n",
      "Logged FPR result: 6.9444% in verification_results.yaml\n"
     ]
    },
    {
     "name": "stderr",
     "output_type": "stream",
     "text": [
      "Processing pairs: 100%|██████████| 132/132 [01:14<00:00,  1.77pair/s]\n"
     ]
    },
    {
     "name": "stdout",
     "output_type": "stream",
     "text": [
      "Total possible pairs: 132\n",
      "Processed pairs: 132\n",
      "Mean FNR: 0.7576%\n",
      "Logged FNR result: 0.7576% in verification_results.yaml\n"
     ]
    },
    {
     "name": "stderr",
     "output_type": "stream",
     "text": [
      "Processing pairs: 100%|██████████| 144/144 [01:11<00:00,  2.00pair/s]\n"
     ]
    },
    {
     "name": "stdout",
     "output_type": "stream",
     "text": [
      "Total possible pairs: 144\n",
      "Processed pairs: 144\n",
      "Mean FPR: 2.0833%\n",
      "Logged FPR result: 2.0833% in verification_results.yaml\n"
     ]
    },
    {
     "name": "stderr",
     "output_type": "stream",
     "text": [
      "Processing pairs: 100%|██████████| 132/132 [01:02<00:00,  2.10pair/s]\n"
     ]
    },
    {
     "name": "stdout",
     "output_type": "stream",
     "text": [
      "Total possible pairs: 132\n",
      "Processed pairs: 132\n",
      "Mean FNR: 1.5152%\n",
      "Logged FNR result: 1.5152% in verification_results.yaml\n"
     ]
    },
    {
     "name": "stderr",
     "output_type": "stream",
     "text": [
      "Processing pairs: 100%|██████████| 144/144 [01:06<00:00,  2.16pair/s]\n"
     ]
    },
    {
     "name": "stdout",
     "output_type": "stream",
     "text": [
      "Total possible pairs: 144\n",
      "Processed pairs: 144\n",
      "Mean FPR: 5.5556%\n",
      "Logged FPR result: 5.5556% in verification_results.yaml\n"
     ]
    },
    {
     "name": "stderr",
     "output_type": "stream",
     "text": [
      "Processing pairs: 100%|██████████| 132/132 [01:09<00:00,  1.89pair/s]\n"
     ]
    },
    {
     "name": "stdout",
     "output_type": "stream",
     "text": [
      "Total possible pairs: 132\n",
      "Processed pairs: 132\n",
      "Mean FNR: 2.2727%\n",
      "Logged FNR result: 2.2727% in verification_results.yaml\n"
     ]
    },
    {
     "name": "stderr",
     "output_type": "stream",
     "text": [
      "Processing pairs: 100%|██████████| 144/144 [01:06<00:00,  2.17pair/s]\n"
     ]
    },
    {
     "name": "stdout",
     "output_type": "stream",
     "text": [
      "Total possible pairs: 144\n",
      "Processed pairs: 144\n",
      "Mean FPR: 0.6944%\n",
      "Logged FPR result: 0.6944% in verification_results.yaml\n"
     ]
    },
    {
     "name": "stderr",
     "output_type": "stream",
     "text": [
      "Processing pairs: 100%|██████████| 66/66 [00:52<00:00,  1.26pair/s]\n"
     ]
    },
    {
     "name": "stdout",
     "output_type": "stream",
     "text": [
      "Total possible pairs: 66\n",
      "Processed pairs: 66\n",
      "Mean FNR: 0.0000%\n",
      "Logged FNR result: 0.0000% in verification_results.yaml\n"
     ]
    },
    {
     "name": "stderr",
     "output_type": "stream",
     "text": [
      "Processing pairs: 0pair [00:00, ?pair/s]\n"
     ]
    },
    {
     "name": "stdout",
     "output_type": "stream",
     "text": [
      "Total possible pairs: 0\n",
      "Processed pairs: 0\n",
      "Mean FPR: 0.0000%\n",
      "Logged FPR result: 0.0000% in verification_results.yaml\n"
     ]
    },
    {
     "name": "stderr",
     "output_type": "stream",
     "text": [
      "Processing pairs: 100%|██████████| 132/132 [01:10<00:00,  1.87pair/s]\n"
     ]
    },
    {
     "name": "stdout",
     "output_type": "stream",
     "text": [
      "Total possible pairs: 132\n",
      "Processed pairs: 132\n",
      "Mean FNR: 9.0909%\n",
      "Logged FNR result: 9.0909% in verification_results.yaml\n"
     ]
    },
    {
     "name": "stderr",
     "output_type": "stream",
     "text": [
      "Processing pairs: 100%|██████████| 144/144 [01:10<00:00,  2.03pair/s]\n"
     ]
    },
    {
     "name": "stdout",
     "output_type": "stream",
     "text": [
      "Total possible pairs: 144\n",
      "Processed pairs: 144\n",
      "Mean FPR: 53.4722%\n",
      "Logged FPR result: 53.4722% in verification_results.yaml\n"
     ]
    },
    {
     "name": "stderr",
     "output_type": "stream",
     "text": [
      "Processing pairs: 100%|██████████| 132/132 [01:08<00:00,  1.92pair/s]\n"
     ]
    },
    {
     "name": "stdout",
     "output_type": "stream",
     "text": [
      "Total possible pairs: 132\n",
      "Processed pairs: 132\n",
      "Mean FNR: 6.8182%\n",
      "Logged FNR result: 6.8182% in verification_results.yaml\n"
     ]
    },
    {
     "name": "stderr",
     "output_type": "stream",
     "text": [
      "Processing pairs: 100%|██████████| 144/144 [01:08<00:00,  2.11pair/s]\n"
     ]
    },
    {
     "name": "stdout",
     "output_type": "stream",
     "text": [
      "Total possible pairs: 144\n",
      "Processed pairs: 144\n",
      "Mean FPR: 60.4167%\n",
      "Logged FPR result: 60.4167% in verification_results.yaml\n"
     ]
    }
   ],
   "source": [
    "for folder in subfolders:\n",
    "    folder_path = os.path.join(dataset_dir, folder)\n",
    "    FNR(folder_path, model_name = \"ArcFace\", use_multiprocessing=True, num_cores=5)\n",
    "    FPR(folder_path, model_name = \"ArcFace\", use_multiprocessing=True, num_cores=5)"
   ]
  }
 ],
 "metadata": {
  "kernelspec": {
   "display_name": "base",
   "language": "python",
   "name": "python3"
  },
  "language_info": {
   "codemirror_mode": {
    "name": "ipython",
    "version": 3
   },
   "file_extension": ".py",
   "mimetype": "text/x-python",
   "name": "python",
   "nbconvert_exporter": "python",
   "pygments_lexer": "ipython3",
   "version": "3.12.4"
  }
 },
 "nbformat": 4,
 "nbformat_minor": 2
}
