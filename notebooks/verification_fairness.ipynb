{
 "cells": [
  {
   "cell_type": "code",
   "execution_count": 11,
   "metadata": {},
   "outputs": [
    {
     "name": "stdout",
     "output_type": "stream",
     "text": [
      "WARNING:tensorflow:From c:\\Users\\tchoudhury\\AppData\\Local\\anaconda3\\Lib\\site-packages\\tf_keras\\src\\losses.py:2976: The name tf.losses.sparse_softmax_cross_entropy is deprecated. Please use tf.compat.v1.losses.sparse_softmax_cross_entropy instead.\n",
      "\n"
     ]
    }
   ],
   "source": [
    "from deepface import DeepFace\n",
    "import os\n",
    "from itertools import combinations"
   ]
  },
  {
   "cell_type": "code",
   "execution_count": 13,
   "metadata": {},
   "outputs": [
    {
     "name": "stdout",
     "output_type": "stream",
     "text": [
      "{'verified': True, 'distance': 0.5685720276897884, 'threshold': 0.68, 'model': 'VGG-Face', 'detector_backend': 'opencv', 'similarity_metric': 'cosine', 'facial_areas': {'img1': {'x': 9, 'y': 18, 'w': 95, 'h': 93, 'left_eye': (74, 53), 'right_eye': (37, 52)}, 'img2': {'x': 10, 'y': 16, 'w': 96, 'h': 95, 'left_eye': None, 'right_eye': None}}, 'time': 0.53}\n"
     ]
    }
   ],
   "source": [
    "result = DeepFace.verify(\n",
    "    img1_path = \"images/0/1.png\",\n",
    "    img2_path = \"images/0/2.png\"\n",
    ")\n",
    "\n",
    "print(result)"
   ]
  },
  {
   "cell_type": "code",
   "execution_count": 9,
   "metadata": {},
   "outputs": [],
   "source": [
    "# Renaming files inside of image folder\n",
    "\n",
    "folder_path = 'images/0'\n",
    "\n",
    "files = os.listdir(folder_path)\n",
    "image_files = [f for f in files if f.lower().endswith('.png')]\n",
    "image_files.sort()\n",
    "\n",
    "# Rename files sequentially\n",
    "for index, file_name in enumerate(image_files, start=1):\n",
    "    old_path = os.path.join(folder_path, file_name)\n",
    "    new_path = os.path.join(folder_path, f\"{index}.png\")\n",
    "    os.rename(old_path, new_path)"
   ]
  },
  {
   "cell_type": "markdown",
   "metadata": {},
   "source": [
    "TPR = TP/(TP+FN)"
   ]
  },
  {
   "cell_type": "code",
   "execution_count": null,
   "metadata": {},
   "outputs": [
    {
     "name": "stdout",
     "output_type": "stream",
     "text": [
      "Input pair: 1.png and 2.png: True\n",
      "Input pair: 1.png and 3.png: False\n",
      "Input pair: 1.png and 4.png: True\n",
      "Input pair: 1.png and 5.png: True\n",
      "Input pair: 1.png and 6.png: True\n",
      "Input pair: 1.png and 7.png: True\n",
      "Input pair: 1.png and 8.png: True\n",
      "Input pair: 2.png and 3.png: True\n",
      "Input pair: 2.png and 4.png: True\n",
      "Input pair: 2.png and 5.png: True\n",
      "Input pair: 2.png and 6.png: True\n",
      "Input pair: 2.png and 7.png: True\n",
      "Input pair: 2.png and 8.png: True\n",
      "Input pair: 3.png and 4.png: True\n",
      "Input pair: 3.png and 5.png: True\n",
      "Input pair: 3.png and 6.png: True\n",
      "Input pair: 3.png and 7.png: True\n",
      "Input pair: 3.png and 8.png: True\n",
      "Input pair: 4.png and 5.png: True\n",
      "Input pair: 4.png and 6.png: True\n",
      "Input pair: 4.png and 7.png: True\n",
      "Input pair: 4.png and 8.png: True\n",
      "Input pair: 5.png and 6.png: True\n",
      "Input pair: 5.png and 7.png: True\n",
      "Input pair: 5.png and 8.png: True\n",
      "Input pair: 6.png and 7.png: True\n",
      "Input pair: 6.png and 8.png: True\n",
      "Input pair: 7.png and 8.png: True\n",
      "\n",
      " (FNR): 3.57%\n"
     ]
    }
   ],
   "source": [
    "# directory containing images\n",
    "image_files = sorted(os.listdir(folder_path))\n",
    "\n",
    "# Generate all possible pairs (k(k-1)/2) using combinatations \n",
    "image_pairs = list(combinations(image_files, 2))\n",
    "\n",
    "# Track TPs and FNs (append into list later)\n",
    "TP = 0 \n",
    "FN = 0  \n",
    "\n",
    "for img1, img2 in image_pairs:\n",
    "    result = DeepFace.verify(\n",
    "        img1_path=os.path.join(folder_path, img1),\n",
    "        img2_path=os.path.join(folder_path, img2)\n",
    "    )\n",
    "    \n",
    "    is_match = result[\"verified\"]\n",
    "    print(f\"Input pair: {img1} and {img2}: {is_match}\")\n",
    "\n",
    "    if is_match:\n",
    "        TP += 1  # Correctly matched\n",
    "    else:\n",
    "        FN += 1  # Incorrectly rejected match\n",
    "\n",
    "# Calculate TPR\n",
    "TPR = TP / (TP + FN)\n",
    "# Caculate FNR\n",
    "FNR = 1-TPR\n",
    "print(f\"\\n (FNR): {1-TPR:.2%}\")\n",
    "\n",
    "# takes around 9 seconds for 8 individuals (28 input pairs)"
   ]
  },
  {
   "cell_type": "code",
   "execution_count": 27,
   "metadata": {},
   "outputs": [],
   "source": [
    "main_dir = \"images\"\n",
    "\n",
    "# file names for individuals\n",
    "individual_dir = sorted([f for f in os.listdir(main_dir) if os.path.isfile(os.path.join(main_dir,f))])\n",
    "\n",
    "# loop over each individual in each folder\n",
    "\n",
    "for person_id in individual_dir:\n",
    "    folder_path = os.path.join(main_dir, person_id)\n",
    "\n",
    "    # get image files\n",
    "    image_files = sorted(os.listdor(folder_path))\n",
    "\n",
    "    # get combinatations\n",
    "    image_pairs = list(combinations(image_files, 2))\n",
    "\n",
    "    TP = 0\n",
    "    FN = 0\n",
    "\n",
    "    for img1, img2 in image_pairs:\n",
    "        result = DeepFace.verify(\n",
    "            image1_path = os.path.join(folder_path, img1),\n",
    "            img2_path = os.path.join(folder_path, img2)\n",
    "        )\n",
    "\n",
    "        is_match = result['verified']\n",
    "        print(f\"  Comparing {img1} and {img2}: {is_match}\")\n",
    "\n",
    "        if is_match:\n",
    "            TP += 1\n",
    "        else:\n",
    "            FN += 1\n",
    "    \n",
    "    TPR = TP / (TP + FN)\n",
    "    FNR = 1 - TPR\n",
    "    \n",
    "    print({FNR})\n",
    "\n",
    "    "
   ]
  },
  {
   "cell_type": "code",
   "execution_count": null,
   "metadata": {},
   "outputs": [],
   "source": []
  }
 ],
 "metadata": {
  "kernelspec": {
   "display_name": "base",
   "language": "python",
   "name": "python3"
  },
  "language_info": {
   "codemirror_mode": {
    "name": "ipython",
    "version": 3
   },
   "file_extension": ".py",
   "mimetype": "text/x-python",
   "name": "python",
   "nbconvert_exporter": "python",
   "pygments_lexer": "ipython3",
   "version": "3.12.4"
  }
 },
 "nbformat": 4,
 "nbformat_minor": 2
}
