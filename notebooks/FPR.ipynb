{
 "cells": [
  {
   "cell_type": "code",
   "execution_count": 1,
   "metadata": {},
   "outputs": [
    {
     "name": "stdout",
     "output_type": "stream",
     "text": [
      "WARNING:tensorflow:From c:\\Users\\tchoudhury\\AppData\\Local\\anaconda3\\Lib\\site-packages\\tf_keras\\src\\losses.py:2976: The name tf.losses.sparse_softmax_cross_entropy is deprecated. Please use tf.compat.v1.losses.sparse_softmax_cross_entropy instead.\n",
      "\n"
     ]
    }
   ],
   "source": [
    "from deepface import DeepFace\n",
    "import os\n",
    "from os import path\n",
    "import itertools\n",
    "from itertools import combinations\n",
    "import matplotlib.pyplot as plt\n",
    "import cv2\n",
    "import numpy as np\n",
    "import json"
   ]
  },
  {
   "cell_type": "code",
   "execution_count": 2,
   "metadata": {},
   "outputs": [
    {
     "name": "stdout",
     "output_type": "stream",
     "text": [
      "Total Comparisons: 384\n",
      "False Positives: 23\n",
      "True Negatives: 361\n",
      "False Positive Rate (FPR): 0.0599\n",
      "True Negative Rate (TNR): 0.9401\n"
     ]
    }
   ],
   "source": [
    "main_dir = \"images\"\n",
    "subfolders = sorted([f for f in os.listdir(main_dir) if os.path.isdir(os.path.join(main_dir, f))])\n",
    "\n",
    "# initiate metrics \n",
    "\n",
    "false_positives = 0\n",
    "true_negatives = 0\n",
    "total_comparisons = 0\n",
    "\n",
    "# find every combination between all images in the main_dir\n",
    "for folder1, folder2 in itertools.combinations(subfolders, 2):\n",
    "    path1 = os.path.join(main_dir, folder1)\n",
    "    path2 = os.path.join(main_dir, folder2)\n",
    "\n",
    "    # list the combinations\n",
    "    images1 = [os.path.join(path1, img) for img in os.listdir(path1) if img.endswith(('.png'))]\n",
    "    images2 = [os.path.join(path2, img) for img in os.listdir(path2) if img.endswith(('.png'))]\n",
    "\n",
    "    # Compare each image in folder1 with each image in folder2\n",
    "    for img1 in images1:\n",
    "        for img2 in images2:\n",
    "            result = DeepFace.verify(img1, img2, enforce_detection=False)\n",
    "            total_comparisons += 1\n",
    "\n",
    "            if result[\"verified\"]:\n",
    "                false_positives += 1\n",
    "            else: \n",
    "                true_negatives += 1\n",
    "\n",
    "# calculate metrics \n",
    "fpr = false_positives / total_comparisons\n",
    "tnr = true_negatives / total_comparisons\n",
    "\n",
    "# Print results\n",
    "print(f\"Total Comparisons: {total_comparisons}\")\n",
    "print(f\"False Positives: {false_positives}\")\n",
    "print(f\"True Negatives: {true_negatives}\")\n",
    "print(f\"False Positive Rate (FPR): {fpr:.2f}\")\n",
    "print(f\"True Negative Rate (TNR): {tnr:.2f}\")\n"
   ]
  },
  {
   "cell_type": "code",
   "execution_count": null,
   "metadata": {},
   "outputs": [],
   "source": []
  }
 ],
 "metadata": {
  "kernelspec": {
   "display_name": "base",
   "language": "python",
   "name": "python3"
  },
  "language_info": {
   "codemirror_mode": {
    "name": "ipython",
    "version": 3
   },
   "file_extension": ".py",
   "mimetype": "text/x-python",
   "name": "python",
   "nbconvert_exporter": "python",
   "pygments_lexer": "ipython3",
   "version": "3.12.4"
  }
 },
 "nbformat": 4,
 "nbformat_minor": 2
}
