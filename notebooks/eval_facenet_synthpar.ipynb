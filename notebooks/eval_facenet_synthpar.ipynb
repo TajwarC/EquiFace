{
 "cells": [
  {
   "cell_type": "code",
   "execution_count": 1,
   "metadata": {},
   "outputs": [],
   "source": [
    "import sys\n",
    "sys.path.append('FNR_tflite.py')\n",
    "sys.path.append('FPR_tflite.py')\n",
    "from FNR_tflite import FNR_tflite\n",
    "from FPR_tflite import FPR_tflite "
   ]
  },
  {
   "cell_type": "code",
   "execution_count": 2,
   "metadata": {},
   "outputs": [],
   "source": [
    "dataset_dir = 'synthpar/ST1'\n",
    "model_path = 'model.tflite'\n"
   ]
  },
  {
   "cell_type": "markdown",
   "metadata": {},
   "source": [
    "FNR and FPR calculations for a given tflite model using the synthpar micro dataset (https://huggingface.co/datasets/TajwarC/synthpar2-micro)\n",
    "\n",
    "This model is the FaceNet model dowloaded from: https://www.kaggle.com/models/faiqueali/facenet-tensorflow\n",
    "\n",
    "the model was converted into a tflite model and then used to generate embeddings after which the cosine similarity is calculated to determine whether the faces match or not\n",
    "\n",
    "Note: Multiprocessing currently does not work with the tflite custom model integration of the FNR and FPR functions"
   ]
  },
  {
   "cell_type": "code",
   "execution_count": 3,
   "metadata": {},
   "outputs": [
    {
     "name": "stdout",
     "output_type": "stream",
     "text": [
      "364 total input pairs from 13 IDs.\n"
     ]
    },
    {
     "name": "stderr",
     "output_type": "stream",
     "text": [
      "Processing input pairs: 100%|██████████| 364/364 [01:05<00:00,  5.53pair/s]\n"
     ]
    },
    {
     "name": "stdout",
     "output_type": "stream",
     "text": [
      "False Negatives: 198\n",
      "Mean FNR across all IDs in group synthpar/ST1: 54.3956%\n",
      "Total number of input pairs: 4992\n",
      "Selected 499 pairs for evaluation (10% of total)\n"
     ]
    },
    {
     "name": "stderr",
     "output_type": "stream",
     "text": [
      "Processing input pairs: 100%|██████████| 499/499 [01:29<00:00,  5.55pair/s]"
     ]
    },
    {
     "name": "stdout",
     "output_type": "stream",
     "text": [
      "False Positives: 5\n",
      "True Negatives: 494\n",
      "Mean FPR across all IDs in group synthpar/ST1: 1.0020%\n"
     ]
    },
    {
     "name": "stderr",
     "output_type": "stream",
     "text": [
      "\n"
     ]
    }
   ],
   "source": [
    "FNR_tflite(dataset_dir, model_path, use_multiprocessing=False)\n",
    "FPR_tflite(dataset_dir, model_path, percentage = 10, use_multiprocessing=False)"
   ]
  },
  {
   "cell_type": "code",
   "execution_count": 4,
   "metadata": {},
   "outputs": [
    {
     "name": "stdout",
     "output_type": "stream",
     "text": [
      "364 total input pairs from 13 IDs.\n"
     ]
    },
    {
     "name": "stderr",
     "output_type": "stream",
     "text": [
      "Processing input pairs: 100%|██████████| 364/364 [01:04<00:00,  5.62pair/s]\n"
     ]
    },
    {
     "name": "stdout",
     "output_type": "stream",
     "text": [
      "False Negatives: 196\n",
      "Mean FNR across all IDs in group synthpar/ST2: 53.8462%\n",
      "Total number of input pairs: 4992\n",
      "Selected 499 pairs for evaluation (10% of total)\n"
     ]
    },
    {
     "name": "stderr",
     "output_type": "stream",
     "text": [
      "Processing input pairs: 100%|██████████| 499/499 [01:29<00:00,  5.59pair/s]"
     ]
    },
    {
     "name": "stdout",
     "output_type": "stream",
     "text": [
      "False Positives: 12\n",
      "True Negatives: 487\n",
      "Mean FPR across all IDs in group synthpar/ST2: 2.4048%\n"
     ]
    },
    {
     "name": "stderr",
     "output_type": "stream",
     "text": [
      "\n"
     ]
    }
   ],
   "source": [
    "dataset_dir = 'synthpar/ST2'\n",
    "FNR_tflite(dataset_dir, model_path, use_multiprocessing=False)\n",
    "FPR_tflite(dataset_dir, model_path, percentage=10, use_multiprocessing=False)"
   ]
  },
  {
   "cell_type": "code",
   "execution_count": 5,
   "metadata": {},
   "outputs": [
    {
     "name": "stdout",
     "output_type": "stream",
     "text": [
      "364 total input pairs from 13 IDs.\n"
     ]
    },
    {
     "name": "stderr",
     "output_type": "stream",
     "text": [
      "Processing input pairs: 100%|██████████| 364/364 [01:05<00:00,  5.57pair/s]\n"
     ]
    },
    {
     "name": "stdout",
     "output_type": "stream",
     "text": [
      "False Negatives: 229\n",
      "Mean FNR across all IDs in group synthpar/ST3: 62.9121%\n",
      "Total number of input pairs: 4992\n",
      "Selected 499 pairs for evaluation (10% of total)\n"
     ]
    },
    {
     "name": "stderr",
     "output_type": "stream",
     "text": [
      "Processing input pairs: 100%|██████████| 499/499 [01:30<00:00,  5.49pair/s]"
     ]
    },
    {
     "name": "stdout",
     "output_type": "stream",
     "text": [
      "False Positives: 7\n",
      "True Negatives: 492\n",
      "Mean FPR across all IDs in group synthpar/ST3: 1.4028%\n"
     ]
    },
    {
     "name": "stderr",
     "output_type": "stream",
     "text": [
      "\n"
     ]
    }
   ],
   "source": [
    "dataset_dir = 'synthpar/ST3'\n",
    "FNR_tflite(dataset_dir, model_path, use_multiprocessing=False)\n",
    "FPR_tflite(dataset_dir, model_path, percentage=10, use_multiprocessing=False)"
   ]
  },
  {
   "cell_type": "code",
   "execution_count": 6,
   "metadata": {},
   "outputs": [
    {
     "name": "stdout",
     "output_type": "stream",
     "text": [
      "364 total input pairs from 13 IDs.\n"
     ]
    },
    {
     "name": "stderr",
     "output_type": "stream",
     "text": [
      "Processing input pairs: 100%|██████████| 364/364 [01:09<00:00,  5.24pair/s]\n"
     ]
    },
    {
     "name": "stdout",
     "output_type": "stream",
     "text": [
      "False Negatives: 219\n",
      "Mean FNR across all IDs in group synthpar/ST4: 60.1648%\n",
      "Total number of input pairs: 4992\n",
      "Selected 499 pairs for evaluation (10% of total)\n"
     ]
    },
    {
     "name": "stderr",
     "output_type": "stream",
     "text": [
      "Processing input pairs: 100%|██████████| 499/499 [01:32<00:00,  5.39pair/s]"
     ]
    },
    {
     "name": "stdout",
     "output_type": "stream",
     "text": [
      "False Positives: 5\n",
      "True Negatives: 494\n",
      "Mean FPR across all IDs in group synthpar/ST4: 1.0020%\n"
     ]
    },
    {
     "name": "stderr",
     "output_type": "stream",
     "text": [
      "\n"
     ]
    }
   ],
   "source": [
    "dataset_dir = 'synthpar/ST4'\n",
    "FNR_tflite(dataset_dir, model_path, use_multiprocessing=False)\n",
    "FPR_tflite(dataset_dir, model_path, percentage=10, use_multiprocessing=False)"
   ]
  },
  {
   "cell_type": "code",
   "execution_count": 7,
   "metadata": {},
   "outputs": [
    {
     "name": "stdout",
     "output_type": "stream",
     "text": [
      "364 total input pairs from 13 IDs.\n"
     ]
    },
    {
     "name": "stderr",
     "output_type": "stream",
     "text": [
      "Processing input pairs: 100%|██████████| 364/364 [01:07<00:00,  5.41pair/s]\n"
     ]
    },
    {
     "name": "stdout",
     "output_type": "stream",
     "text": [
      "False Negatives: 189\n",
      "Mean FNR across all IDs in group synthpar/ST5: 51.9231%\n",
      "Total number of input pairs: 4992\n",
      "Selected 499 pairs for evaluation (10% of total)\n"
     ]
    },
    {
     "name": "stderr",
     "output_type": "stream",
     "text": [
      "Processing input pairs: 100%|██████████| 499/499 [01:31<00:00,  5.47pair/s]"
     ]
    },
    {
     "name": "stdout",
     "output_type": "stream",
     "text": [
      "False Positives: 5\n",
      "True Negatives: 494\n",
      "Mean FPR across all IDs in group synthpar/ST5: 1.0020%\n"
     ]
    },
    {
     "name": "stderr",
     "output_type": "stream",
     "text": [
      "\n"
     ]
    }
   ],
   "source": [
    "dataset_dir = 'synthpar/ST5'\n",
    "FNR_tflite(dataset_dir, model_path, use_multiprocessing=False)\n",
    "FPR_tflite(dataset_dir, model_path, percentage=10, use_multiprocessing=False)"
   ]
  },
  {
   "cell_type": "code",
   "execution_count": 8,
   "metadata": {},
   "outputs": [
    {
     "name": "stdout",
     "output_type": "stream",
     "text": [
      "364 total input pairs from 13 IDs.\n"
     ]
    },
    {
     "name": "stderr",
     "output_type": "stream",
     "text": [
      "Processing input pairs: 100%|██████████| 364/364 [01:05<00:00,  5.53pair/s]\n"
     ]
    },
    {
     "name": "stdout",
     "output_type": "stream",
     "text": [
      "False Negatives: 215\n",
      "Mean FNR across all IDs in group synthpar/ST6: 59.0659%\n",
      "Total number of input pairs: 4992\n",
      "Selected 499 pairs for evaluation (10% of total)\n"
     ]
    },
    {
     "name": "stderr",
     "output_type": "stream",
     "text": [
      "Processing input pairs: 100%|██████████| 499/499 [01:30<00:00,  5.53pair/s]"
     ]
    },
    {
     "name": "stdout",
     "output_type": "stream",
     "text": [
      "False Positives: 4\n",
      "True Negatives: 495\n",
      "Mean FPR across all IDs in group synthpar/ST6: 0.8016%\n"
     ]
    },
    {
     "name": "stderr",
     "output_type": "stream",
     "text": [
      "\n"
     ]
    }
   ],
   "source": [
    "dataset_dir = 'synthpar/ST6'\n",
    "FNR_tflite(dataset_dir, model_path, use_multiprocessing=False)\n",
    "FPR_tflite(dataset_dir, model_path, percentage=10, use_multiprocessing=False)"
   ]
  },
  {
   "cell_type": "code",
   "execution_count": 9,
   "metadata": {},
   "outputs": [
    {
     "name": "stdout",
     "output_type": "stream",
     "text": [
      "364 total input pairs from 13 IDs.\n"
     ]
    },
    {
     "name": "stderr",
     "output_type": "stream",
     "text": [
      "Processing input pairs: 100%|██████████| 364/364 [01:09<00:00,  5.24pair/s]\n"
     ]
    },
    {
     "name": "stdout",
     "output_type": "stream",
     "text": [
      "False Negatives: 243\n",
      "Mean FNR across all IDs in group synthpar/ST7: 66.7582%\n",
      "Total number of input pairs: 4992\n",
      "Selected 499 pairs for evaluation (10% of total)\n"
     ]
    },
    {
     "name": "stderr",
     "output_type": "stream",
     "text": [
      "Processing input pairs: 100%|██████████| 499/499 [01:35<00:00,  5.25pair/s]"
     ]
    },
    {
     "name": "stdout",
     "output_type": "stream",
     "text": [
      "False Positives: 11\n",
      "True Negatives: 488\n",
      "Mean FPR across all IDs in group synthpar/ST7: 2.2044%\n"
     ]
    },
    {
     "name": "stderr",
     "output_type": "stream",
     "text": [
      "\n"
     ]
    }
   ],
   "source": [
    "dataset_dir = 'synthpar/ST7'\n",
    "FNR_tflite(dataset_dir, model_path, use_multiprocessing=False)\n",
    "FPR_tflite(dataset_dir, model_path, percentage=10, use_multiprocessing=False)"
   ]
  },
  {
   "cell_type": "code",
   "execution_count": 10,
   "metadata": {},
   "outputs": [
    {
     "name": "stdout",
     "output_type": "stream",
     "text": [
      "364 total input pairs from 13 IDs.\n"
     ]
    },
    {
     "name": "stderr",
     "output_type": "stream",
     "text": [
      "Processing input pairs: 100%|██████████| 364/364 [01:12<00:00,  5.05pair/s]\n"
     ]
    },
    {
     "name": "stdout",
     "output_type": "stream",
     "text": [
      "False Negatives: 126\n",
      "Mean FNR across all IDs in group synthpar/ST8: 34.6154%\n",
      "Total number of input pairs: 4992\n",
      "Selected 499 pairs for evaluation (10% of total)\n"
     ]
    },
    {
     "name": "stderr",
     "output_type": "stream",
     "text": [
      "Processing input pairs: 100%|██████████| 499/499 [01:29<00:00,  5.57pair/s]"
     ]
    },
    {
     "name": "stdout",
     "output_type": "stream",
     "text": [
      "False Positives: 5\n",
      "True Negatives: 494\n",
      "Mean FPR across all IDs in group synthpar/ST8: 1.0020%\n"
     ]
    },
    {
     "name": "stderr",
     "output_type": "stream",
     "text": [
      "\n"
     ]
    }
   ],
   "source": [
    "dataset_dir = 'synthpar/ST8'\n",
    "FNR_tflite(dataset_dir, model_path, use_multiprocessing=False)\n",
    "FPR_tflite(dataset_dir, model_path, percentage=10, use_multiprocessing=False)"
   ]
  }
 ],
 "metadata": {
  "kernelspec": {
   "display_name": "base",
   "language": "python",
   "name": "python3"
  },
  "language_info": {
   "codemirror_mode": {
    "name": "ipython",
    "version": 3
   },
   "file_extension": ".py",
   "mimetype": "text/x-python",
   "name": "python",
   "nbconvert_exporter": "python",
   "pygments_lexer": "ipython3",
   "version": "3.12.4"
  }
 },
 "nbformat": 4,
 "nbformat_minor": 2
}
