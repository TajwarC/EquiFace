{
 "cells": [
  {
   "cell_type": "code",
   "execution_count": 1,
   "metadata": {},
   "outputs": [
    {
     "name": "stdout",
     "output_type": "stream",
     "text": [
      "WARNING:tensorflow:From c:\\Users\\tchoudhury\\AppData\\Local\\anaconda3\\Lib\\site-packages\\tf_keras\\src\\losses.py:2976: The name tf.losses.sparse_softmax_cross_entropy is deprecated. Please use tf.compat.v1.losses.sparse_softmax_cross_entropy instead.\n",
      "\n"
     ]
    }
   ],
   "source": [
    "import numpy as np\n",
    "import os\n",
    "import sys\n",
    "sys.path.append('FNR.py')\n",
    "sys.path.append('FPR.py')\n",
    "from FNR import FNR\n",
    "from FPR import FPR"
   ]
  },
  {
   "cell_type": "markdown",
   "metadata": {},
   "source": [
    "A bias assessment of VGG-Face with the Monk Skin tone dataset (https://skintone.google/mste-dataset)\n",
    "\n",
    "The dataset has been processed to remove images where the subject is not facing forward (as best as possible) along with images with exceptionally poor lighting. Each subject (a total of 18) was placed into one of the 10 different skin tone groups according to the datasets documentation. Some skin tone groups only had 1 subject, thus FPR calculations were not possible. For each subject, there are 12 images. These were resized into 512x512 .jpg files."
   ]
  },
  {
   "cell_type": "code",
   "execution_count": 2,
   "metadata": {},
   "outputs": [
    {
     "name": "stdout",
     "output_type": "stream",
     "text": [
      "132 total input pairs from 2 IDs.\n"
     ]
    },
    {
     "name": "stderr",
     "output_type": "stream",
     "text": [
      "Processing input pairs: 100%|██████████| 132/132 [02:45<00:00,  1.25s/pair]\n"
     ]
    },
    {
     "name": "stdout",
     "output_type": "stream",
     "text": [
      "False Negatives: 7\n",
      "Mean FNR across all IDs in group data/ST1: 5.3030%\n",
      "Total number of input pairs: 144\n",
      "Selected 144 pairs for evaluation (100% of total)\n"
     ]
    },
    {
     "name": "stderr",
     "output_type": "stream",
     "text": [
      "Processing input pairs: 100%|██████████| 144/144 [01:54<00:00,  1.26pair/s]"
     ]
    },
    {
     "name": "stdout",
     "output_type": "stream",
     "text": [
      "False Positives: 0\n",
      "True Negatives: 144\n",
      "Mean FPR across all IDs in group data/ST1: 0.0000%\n"
     ]
    },
    {
     "name": "stderr",
     "output_type": "stream",
     "text": [
      "\n"
     ]
    }
   ],
   "source": [
    "FNR(dataset_dir = 'data/ST1', use_multiprocessing=True, num_cores = 5)\n",
    "FPR(dataset_dir = 'data/ST1', use_multiprocessing=True, num_cores=5)"
   ]
  },
  {
   "cell_type": "code",
   "execution_count": 3,
   "metadata": {},
   "outputs": [
    {
     "name": "stdout",
     "output_type": "stream",
     "text": [
      "198 total input pairs from 3 IDs.\n"
     ]
    },
    {
     "name": "stderr",
     "output_type": "stream",
     "text": [
      "Processing input pairs: 100%|██████████| 198/198 [02:59<00:00,  1.10pair/s]\n"
     ]
    },
    {
     "name": "stdout",
     "output_type": "stream",
     "text": [
      "False Negatives: 10\n",
      "Mean FNR across all IDs in group data/ST2: 5.0505%\n",
      "Total number of input pairs: 432\n",
      "Selected 432 pairs for evaluation (100% of total)\n"
     ]
    },
    {
     "name": "stderr",
     "output_type": "stream",
     "text": [
      "Processing input pairs: 100%|██████████| 432/432 [03:28<00:00,  2.08pair/s]"
     ]
    },
    {
     "name": "stdout",
     "output_type": "stream",
     "text": [
      "False Positives: 40\n",
      "True Negatives: 392\n",
      "Mean FPR across all IDs in group data/ST2: 9.2593%\n"
     ]
    },
    {
     "name": "stderr",
     "output_type": "stream",
     "text": [
      "\n"
     ]
    }
   ],
   "source": [
    "FNR(dataset_dir = 'data/ST2', use_multiprocessing=True, num_cores = 5)\n",
    "FPR(dataset_dir = 'data/ST2', use_multiprocessing=True, num_cores=5)"
   ]
  },
  {
   "cell_type": "code",
   "execution_count": 4,
   "metadata": {},
   "outputs": [
    {
     "name": "stdout",
     "output_type": "stream",
     "text": [
      "132 total input pairs from 2 IDs.\n"
     ]
    },
    {
     "name": "stderr",
     "output_type": "stream",
     "text": [
      "Processing input pairs: 100%|██████████| 132/132 [01:43<00:00,  1.27pair/s]\n"
     ]
    },
    {
     "name": "stdout",
     "output_type": "stream",
     "text": [
      "False Negatives: 29\n",
      "Mean FNR across all IDs in group data/ST3: 21.9697%\n",
      "Total number of input pairs: 144\n",
      "Selected 144 pairs for evaluation (100% of total)\n"
     ]
    },
    {
     "name": "stderr",
     "output_type": "stream",
     "text": [
      "Processing input pairs: 100%|██████████| 144/144 [01:17<00:00,  1.85pair/s]"
     ]
    },
    {
     "name": "stdout",
     "output_type": "stream",
     "text": [
      "False Positives: 16\n",
      "True Negatives: 128\n",
      "Mean FPR across all IDs in group data/ST3: 11.1111%\n"
     ]
    },
    {
     "name": "stderr",
     "output_type": "stream",
     "text": [
      "\n"
     ]
    }
   ],
   "source": [
    "FNR(dataset_dir = 'data/ST3', use_multiprocessing=True, num_cores = 5)\n",
    "FPR(dataset_dir = 'data/ST3', use_multiprocessing=True, num_cores=5)"
   ]
  },
  {
   "cell_type": "code",
   "execution_count": 5,
   "metadata": {},
   "outputs": [
    {
     "name": "stdout",
     "output_type": "stream",
     "text": [
      "132 total input pairs from 2 IDs.\n"
     ]
    },
    {
     "name": "stderr",
     "output_type": "stream",
     "text": [
      "Processing input pairs: 100%|██████████| 132/132 [01:14<00:00,  1.76pair/s]\n"
     ]
    },
    {
     "name": "stdout",
     "output_type": "stream",
     "text": [
      "False Negatives: 14\n",
      "Mean FNR across all IDs in group data/ST4: 10.6061%\n",
      "Total number of input pairs: 144\n",
      "Selected 144 pairs for evaluation (100% of total)\n"
     ]
    },
    {
     "name": "stderr",
     "output_type": "stream",
     "text": [
      "Processing input pairs: 100%|██████████| 144/144 [01:17<00:00,  1.85pair/s]"
     ]
    },
    {
     "name": "stdout",
     "output_type": "stream",
     "text": [
      "False Positives: 0\n",
      "True Negatives: 144\n",
      "Mean FPR across all IDs in group data/ST4: 0.0000%\n"
     ]
    },
    {
     "name": "stderr",
     "output_type": "stream",
     "text": [
      "\n"
     ]
    }
   ],
   "source": [
    "FNR(dataset_dir = 'data/ST4', use_multiprocessing=True, num_cores = 5)\n",
    "FPR(dataset_dir = 'data/ST4', use_multiprocessing=True, num_cores=5)"
   ]
  },
  {
   "cell_type": "code",
   "execution_count": 6,
   "metadata": {},
   "outputs": [
    {
     "name": "stdout",
     "output_type": "stream",
     "text": [
      "132 total input pairs from 2 IDs.\n"
     ]
    },
    {
     "name": "stderr",
     "output_type": "stream",
     "text": [
      "Processing input pairs: 100%|██████████| 132/132 [01:16<00:00,  1.74pair/s]\n"
     ]
    },
    {
     "name": "stdout",
     "output_type": "stream",
     "text": [
      "False Negatives: 0\n",
      "Mean FNR across all IDs in group data/ST5: 0.0000%\n",
      "Total number of input pairs: 144\n",
      "Selected 144 pairs for evaluation (100% of total)\n"
     ]
    },
    {
     "name": "stderr",
     "output_type": "stream",
     "text": [
      "Processing input pairs: 100%|██████████| 144/144 [01:16<00:00,  1.89pair/s]"
     ]
    },
    {
     "name": "stdout",
     "output_type": "stream",
     "text": [
      "False Positives: 27\n",
      "True Negatives: 117\n",
      "Mean FPR across all IDs in group data/ST5: 18.7500%\n"
     ]
    },
    {
     "name": "stderr",
     "output_type": "stream",
     "text": [
      "\n"
     ]
    }
   ],
   "source": [
    "FNR(dataset_dir = 'data/ST5', use_multiprocessing=True, num_cores = 5)\n",
    "FPR(dataset_dir = 'data/ST5', use_multiprocessing=True, num_cores=5)"
   ]
  },
  {
   "cell_type": "code",
   "execution_count": 7,
   "metadata": {},
   "outputs": [
    {
     "name": "stdout",
     "output_type": "stream",
     "text": [
      "132 total input pairs from 2 IDs.\n"
     ]
    },
    {
     "name": "stderr",
     "output_type": "stream",
     "text": [
      "Processing input pairs: 100%|██████████| 132/132 [01:15<00:00,  1.74pair/s]\n"
     ]
    },
    {
     "name": "stdout",
     "output_type": "stream",
     "text": [
      "False Negatives: 5\n",
      "Mean FNR across all IDs in group data/ST6: 3.7879%\n",
      "Total number of input pairs: 144\n",
      "Selected 144 pairs for evaluation (100% of total)\n"
     ]
    },
    {
     "name": "stderr",
     "output_type": "stream",
     "text": [
      "Processing input pairs: 100%|██████████| 144/144 [01:21<00:00,  1.77pair/s]"
     ]
    },
    {
     "name": "stdout",
     "output_type": "stream",
     "text": [
      "False Positives: 0\n",
      "True Negatives: 144\n",
      "Mean FPR across all IDs in group data/ST6: 0.0000%\n"
     ]
    },
    {
     "name": "stderr",
     "output_type": "stream",
     "text": [
      "\n"
     ]
    }
   ],
   "source": [
    "FNR(dataset_dir = 'data/ST6', use_multiprocessing=True, num_cores = 5)\n",
    "FPR(dataset_dir = 'data/ST6', use_multiprocessing=True, num_cores=5)"
   ]
  },
  {
   "cell_type": "code",
   "execution_count": 8,
   "metadata": {},
   "outputs": [
    {
     "name": "stdout",
     "output_type": "stream",
     "text": [
      "66 total input pairs from 1 IDs.\n"
     ]
    },
    {
     "name": "stderr",
     "output_type": "stream",
     "text": [
      "Processing input pairs: 100%|██████████| 66/66 [01:04<00:00,  1.02pair/s]\n"
     ]
    },
    {
     "name": "stdout",
     "output_type": "stream",
     "text": [
      "False Negatives: 0\n",
      "Mean FNR across all IDs in group data/ST7: 0.0000%\n"
     ]
    }
   ],
   "source": [
    "FNR(dataset_dir = 'data/ST7', use_multiprocessing=True, num_cores = 5)\n"
   ]
  },
  {
   "cell_type": "code",
   "execution_count": 9,
   "metadata": {},
   "outputs": [
    {
     "name": "stdout",
     "output_type": "stream",
     "text": [
      "132 total input pairs from 2 IDs.\n"
     ]
    },
    {
     "name": "stderr",
     "output_type": "stream",
     "text": [
      "Processing input pairs: 100%|██████████| 132/132 [01:15<00:00,  1.74pair/s]\n"
     ]
    },
    {
     "name": "stdout",
     "output_type": "stream",
     "text": [
      "False Negatives: 11\n",
      "Mean FNR across all IDs in group data/ST8: 8.3333%\n",
      "Total number of input pairs: 144\n",
      "Selected 144 pairs for evaluation (100% of total)\n"
     ]
    },
    {
     "name": "stderr",
     "output_type": "stream",
     "text": [
      "Processing input pairs: 100%|██████████| 144/144 [01:17<00:00,  1.86pair/s]"
     ]
    },
    {
     "name": "stdout",
     "output_type": "stream",
     "text": [
      "False Positives: 60\n",
      "True Negatives: 84\n",
      "Mean FPR across all IDs in group data/ST8: 41.6667%\n"
     ]
    },
    {
     "name": "stderr",
     "output_type": "stream",
     "text": [
      "\n"
     ]
    }
   ],
   "source": [
    "FNR(dataset_dir = 'data/ST8', use_multiprocessing=True, num_cores = 5)\n",
    "FPR(dataset_dir = 'data/ST8', use_multiprocessing=True, num_cores=5)"
   ]
  },
  {
   "cell_type": "code",
   "execution_count": 10,
   "metadata": {},
   "outputs": [
    {
     "name": "stdout",
     "output_type": "stream",
     "text": [
      "132 total input pairs from 2 IDs.\n"
     ]
    },
    {
     "name": "stderr",
     "output_type": "stream",
     "text": [
      "Processing input pairs: 100%|██████████| 132/132 [01:15<00:00,  1.76pair/s]\n"
     ]
    },
    {
     "name": "stdout",
     "output_type": "stream",
     "text": [
      "False Negatives: 17\n",
      "Mean FNR across all IDs in group data/ST9: 12.8788%\n",
      "Total number of input pairs: 144\n",
      "Selected 144 pairs for evaluation (100% of total)\n"
     ]
    },
    {
     "name": "stderr",
     "output_type": "stream",
     "text": [
      "Processing input pairs: 100%|██████████| 144/144 [01:22<00:00,  1.75pair/s]"
     ]
    },
    {
     "name": "stdout",
     "output_type": "stream",
     "text": [
      "False Positives: 54\n",
      "True Negatives: 90\n",
      "Mean FPR across all IDs in group data/ST9: 37.5000%\n"
     ]
    },
    {
     "name": "stderr",
     "output_type": "stream",
     "text": [
      "\n"
     ]
    }
   ],
   "source": [
    "FNR(dataset_dir = 'data/ST9', use_multiprocessing=True, num_cores = 5)\n",
    "FPR(dataset_dir = 'data/ST9', use_multiprocessing=True, num_cores=5)"
   ]
  },
  {
   "cell_type": "code",
   "execution_count": 11,
   "metadata": {},
   "outputs": [
    {
     "name": "stdout",
     "output_type": "stream",
     "text": [
      "66 total input pairs from 1 IDs.\n"
     ]
    },
    {
     "name": "stderr",
     "output_type": "stream",
     "text": [
      "Processing input pairs: 100%|██████████| 66/66 [01:02<00:00,  1.05pair/s]\n"
     ]
    },
    {
     "name": "stdout",
     "output_type": "stream",
     "text": [
      "False Negatives: 2\n",
      "Mean FNR across all IDs in group data/ST10: 3.0303%\n"
     ]
    }
   ],
   "source": [
    "FNR(dataset_dir = 'data/ST10', use_multiprocessing=True, num_cores = 5)\n"
   ]
  }
 ],
 "metadata": {
  "kernelspec": {
   "display_name": "base",
   "language": "python",
   "name": "python3"
  },
  "language_info": {
   "codemirror_mode": {
    "name": "ipython",
    "version": 3
   },
   "file_extension": ".py",
   "mimetype": "text/x-python",
   "name": "python",
   "nbconvert_exporter": "python",
   "pygments_lexer": "ipython3",
   "version": "3.12.4"
  }
 },
 "nbformat": 4,
 "nbformat_minor": 2
}
