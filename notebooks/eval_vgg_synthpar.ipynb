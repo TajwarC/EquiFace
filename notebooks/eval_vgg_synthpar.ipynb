{
 "cells": [
  {
   "cell_type": "markdown",
   "metadata": {},
   "source": [
    "## Testing the bias in open source facial detection models"
   ]
  },
  {
   "cell_type": "code",
   "execution_count": 1,
   "metadata": {},
   "outputs": [
    {
     "name": "stdout",
     "output_type": "stream",
     "text": [
      "WARNING:tensorflow:From c:\\Users\\tchoudhury\\AppData\\Local\\anaconda3\\Lib\\site-packages\\tf_keras\\src\\losses.py:2976: The name tf.losses.sparse_softmax_cross_entropy is deprecated. Please use tf.compat.v1.losses.sparse_softmax_cross_entropy instead.\n",
      "\n"
     ]
    }
   ],
   "source": [
    "import numpy as np\n",
    "import os\n",
    "import sys\n",
    "sys.path.append('FNR.py')\n",
    "sys.path.append('FPR.py')\n",
    "import FNR\n",
    "import FPR\n",
    "from FNR import FNR\n",
    "from FPR import FPR"
   ]
  },
  {
   "cell_type": "markdown",
   "metadata": {},
   "source": [
    "The dataset used is a minute fraction of the SynthPar2 dataset:https://huggingface.co/datasets/pravsels/synthpar \n",
    "\n",
    "The dataset is in the form:\n",
    "\n",
    "```\n",
    "synthpar/ST1/1.png\n",
    "...\n",
    "synthpar/ST1/n.png\n",
    "...\n",
    "synthpar/ST2/1.png\n",
    "...\n",
    "synthpar/ST2/n.png\n",
    ".\n",
    ".\n",
    ".\n",
    "synthpar/ST8\n",
    "```\n",
    "\n",
    "where each ST subfolder contains 13 identities and 8 variations of each ID. There are 8 different skin tone groups.\n",
    "\n",
    "In this experiment we are using the VGG Face model which is available from DeepFace: https://github.com/serengil/deepface/tree/master/deepface/models/facial_recognition"
   ]
  },
  {
   "cell_type": "code",
   "execution_count": 2,
   "metadata": {},
   "outputs": [
    {
     "name": "stdout",
     "output_type": "stream",
     "text": [
      "364 total input pairs from 13 IDs.\n"
     ]
    },
    {
     "name": "stderr",
     "output_type": "stream",
     "text": [
      "Processing input pairs: 100%|██████████| 364/364 [02:00<00:00,  3.03pair/s]\n"
     ]
    },
    {
     "name": "stdout",
     "output_type": "stream",
     "text": [
      "False Negatives: 155\n",
      "Mean FNR across all IDs in group synthpar/ST1: 42.5824%\n",
      "Total number of input pairs: 4992\n",
      "Selected 499 pairs for evaluation (10% of total)\n"
     ]
    },
    {
     "name": "stderr",
     "output_type": "stream",
     "text": [
      "Processing input pairs: 100%|██████████| 499/499 [02:28<00:00,  3.37pair/s]"
     ]
    },
    {
     "name": "stdout",
     "output_type": "stream",
     "text": [
      "False Positives: 33\n",
      "True Negatives: 466\n",
      "Mean FPR across all IDs in group synthpar/ST1: 6.6132%\n"
     ]
    },
    {
     "name": "stderr",
     "output_type": "stream",
     "text": [
      "\n"
     ]
    }
   ],
   "source": [
    "FNR(dataset_dir = 'synthpar/ST1', use_multiprocessing=True, num_cores=5)\n",
    "FPR(dataset_dir = 'synthpar/ST1', use_multiprocessing=True, num_cores=5, percentage=10)"
   ]
  },
  {
   "cell_type": "markdown",
   "metadata": {},
   "source": [
    "The FNR is calculated by processing every possible input pair for each individual in each ST group. For example, in ST1, there are 13 unique IDs and 8 variations of each one (as is the case for all ST groups). The FNR function produces all possible comparison combinations for each of the 13 IDs, i.e. 28 input pairs for 13 IDs, and uses DeepFace ```verify``` to check if they are the same individual or not. A false negative is a prediction from the model that an input pair is not the same person, as the input pairs are all representative of the same person. "
   ]
  },
  {
   "cell_type": "markdown",
   "metadata": {},
   "source": [
    "The FNR across the first Skin Tone group is 43%. This indicates the model is particularly poor at matching individuals with themselves; this is perhaps due to the challenging nature of the SynthPar Dataset as the variations of each individual are deliberately made to be broad. The images do not follow an ISO/IEC/NIST standard, which would be the case in most if not all biometric authentication applications. "
   ]
  },
  {
   "cell_type": "markdown",
   "metadata": {},
   "source": [
    "The FPR is calculated in a similar fashion to above, but instead of comparing individuals to themselves, it compares individuals to other individuals. The function firstly computes all possible combinations (exlcuding combinations of individuals with themselves) and then inputs these pairs into ```verify```. To save on computation, the user is able to select a percentage of the total possible combinations, which then picks out a random number of input pairs from all combinations to test against. "
   ]
  },
  {
   "cell_type": "markdown",
   "metadata": {},
   "source": [
    "This process is then repeated for all ST groups.\n"
   ]
  },
  {
   "cell_type": "code",
   "execution_count": 3,
   "metadata": {},
   "outputs": [
    {
     "name": "stdout",
     "output_type": "stream",
     "text": [
      "364 total input pairs from 13 IDs.\n"
     ]
    },
    {
     "name": "stderr",
     "output_type": "stream",
     "text": [
      "Processing input pairs: 100%|██████████| 364/364 [01:54<00:00,  3.19pair/s]\n"
     ]
    },
    {
     "name": "stdout",
     "output_type": "stream",
     "text": [
      "False Negatives: 197\n",
      "Mean FNR across all IDs in group synthpar/ST2: 54.1209%\n",
      "Total number of input pairs: 4992\n",
      "Selected 499 pairs for evaluation (10% of total)\n"
     ]
    },
    {
     "name": "stderr",
     "output_type": "stream",
     "text": [
      "Processing input pairs: 100%|██████████| 499/499 [02:23<00:00,  3.47pair/s]"
     ]
    },
    {
     "name": "stdout",
     "output_type": "stream",
     "text": [
      "False Positives: 32\n",
      "True Negatives: 467\n",
      "Mean FPR across all IDs in group synthpar/ST2: 6.4128%\n"
     ]
    },
    {
     "name": "stderr",
     "output_type": "stream",
     "text": [
      "\n"
     ]
    }
   ],
   "source": [
    "FNR(dataset_dir = 'synthpar/ST2', use_multiprocessing=True, num_cores=5)\n",
    "FPR(dataset_dir = 'synthpar/ST2', use_multiprocessing=True, num_cores=5, percentage=10)"
   ]
  },
  {
   "cell_type": "code",
   "execution_count": 4,
   "metadata": {},
   "outputs": [
    {
     "name": "stdout",
     "output_type": "stream",
     "text": [
      "364 total input pairs from 13 IDs.\n"
     ]
    },
    {
     "name": "stderr",
     "output_type": "stream",
     "text": [
      "Processing input pairs: 100%|██████████| 364/364 [01:51<00:00,  3.28pair/s]\n"
     ]
    },
    {
     "name": "stdout",
     "output_type": "stream",
     "text": [
      "False Negatives: 202\n",
      "Mean FNR across all IDs in group synthpar/ST3: 55.4945%\n",
      "Total number of input pairs: 4992\n",
      "Selected 499 pairs for evaluation (10% of total)\n"
     ]
    },
    {
     "name": "stderr",
     "output_type": "stream",
     "text": [
      "Processing input pairs: 100%|██████████| 499/499 [02:24<00:00,  3.45pair/s]"
     ]
    },
    {
     "name": "stdout",
     "output_type": "stream",
     "text": [
      "False Positives: 35\n",
      "True Negatives: 464\n",
      "Mean FPR across all IDs in group synthpar/ST3: 7.0140%\n"
     ]
    },
    {
     "name": "stderr",
     "output_type": "stream",
     "text": [
      "\n"
     ]
    }
   ],
   "source": [
    "FNR(dataset_dir = 'synthpar/ST3', use_multiprocessing=True, num_cores=5)\n",
    "FPR(dataset_dir = 'synthpar/ST3', use_multiprocessing=True, num_cores=5, percentage=10)"
   ]
  },
  {
   "cell_type": "code",
   "execution_count": 5,
   "metadata": {},
   "outputs": [
    {
     "name": "stdout",
     "output_type": "stream",
     "text": [
      "364 total input pairs from 13 IDs.\n"
     ]
    },
    {
     "name": "stderr",
     "output_type": "stream",
     "text": [
      "Processing input pairs: 100%|██████████| 364/364 [01:52<00:00,  3.24pair/s]\n"
     ]
    },
    {
     "name": "stdout",
     "output_type": "stream",
     "text": [
      "False Negatives: 205\n",
      "Mean FNR across all IDs in group synthpar/ST4: 56.3187%\n",
      "Total number of input pairs: 4992\n",
      "Selected 499 pairs for evaluation (10% of total)\n"
     ]
    },
    {
     "name": "stderr",
     "output_type": "stream",
     "text": [
      "Processing input pairs: 100%|██████████| 499/499 [02:23<00:00,  3.48pair/s]"
     ]
    },
    {
     "name": "stdout",
     "output_type": "stream",
     "text": [
      "False Positives: 45\n",
      "True Negatives: 454\n",
      "Mean FPR across all IDs in group synthpar/ST4: 9.0180%\n"
     ]
    },
    {
     "name": "stderr",
     "output_type": "stream",
     "text": [
      "\n"
     ]
    }
   ],
   "source": [
    "FNR(dataset_dir = 'synthpar/ST4', use_multiprocessing=True, num_cores=5)\n",
    "FPR(dataset_dir = 'synthpar/ST4', use_multiprocessing=True, num_cores=5, percentage=10)"
   ]
  },
  {
   "cell_type": "code",
   "execution_count": 6,
   "metadata": {},
   "outputs": [
    {
     "name": "stdout",
     "output_type": "stream",
     "text": [
      "364 total input pairs from 13 IDs.\n"
     ]
    },
    {
     "name": "stderr",
     "output_type": "stream",
     "text": [
      "Processing input pairs: 100%|██████████| 364/364 [01:50<00:00,  3.28pair/s]\n"
     ]
    },
    {
     "name": "stdout",
     "output_type": "stream",
     "text": [
      "False Negatives: 198\n",
      "Mean FNR across all IDs in group synthpar/ST5: 54.3956%\n",
      "Total number of input pairs: 4992\n",
      "Selected 499 pairs for evaluation (10% of total)\n"
     ]
    },
    {
     "name": "stderr",
     "output_type": "stream",
     "text": [
      "Processing input pairs: 100%|██████████| 499/499 [02:23<00:00,  3.48pair/s]"
     ]
    },
    {
     "name": "stdout",
     "output_type": "stream",
     "text": [
      "False Positives: 29\n",
      "True Negatives: 470\n",
      "Mean FPR across all IDs in group synthpar/ST5: 5.8116%\n"
     ]
    },
    {
     "name": "stderr",
     "output_type": "stream",
     "text": [
      "\n"
     ]
    }
   ],
   "source": [
    "FNR(dataset_dir = 'synthpar/ST5', use_multiprocessing=True, num_cores=5)\n",
    "FPR(dataset_dir = 'synthpar/ST5', use_multiprocessing=True, num_cores=5, percentage=10)"
   ]
  },
  {
   "cell_type": "code",
   "execution_count": 7,
   "metadata": {},
   "outputs": [
    {
     "name": "stdout",
     "output_type": "stream",
     "text": [
      "364 total input pairs from 13 IDs.\n"
     ]
    },
    {
     "name": "stderr",
     "output_type": "stream",
     "text": [
      "Processing input pairs: 100%|██████████| 364/364 [01:50<00:00,  3.28pair/s]\n"
     ]
    },
    {
     "name": "stdout",
     "output_type": "stream",
     "text": [
      "False Negatives: 171\n",
      "Mean FNR across all IDs in group synthpar/ST6: 46.9780%\n",
      "Total number of input pairs: 4992\n",
      "Selected 499 pairs for evaluation (10% of total)\n"
     ]
    },
    {
     "name": "stderr",
     "output_type": "stream",
     "text": [
      "Processing input pairs: 100%|██████████| 499/499 [02:20<00:00,  3.56pair/s]"
     ]
    },
    {
     "name": "stdout",
     "output_type": "stream",
     "text": [
      "False Positives: 38\n",
      "True Negatives: 461\n",
      "Mean FPR across all IDs in group synthpar/ST6: 7.6152%\n"
     ]
    },
    {
     "name": "stderr",
     "output_type": "stream",
     "text": [
      "\n"
     ]
    }
   ],
   "source": [
    "FNR(dataset_dir = 'synthpar/ST6', use_multiprocessing=True, num_cores=5)\n",
    "FPR(dataset_dir = 'synthpar/ST6', use_multiprocessing=True, num_cores=5, percentage=10)"
   ]
  },
  {
   "cell_type": "code",
   "execution_count": 8,
   "metadata": {},
   "outputs": [
    {
     "name": "stdout",
     "output_type": "stream",
     "text": [
      "364 total input pairs from 13 IDs.\n"
     ]
    },
    {
     "name": "stderr",
     "output_type": "stream",
     "text": [
      "Processing input pairs: 100%|██████████| 364/364 [01:52<00:00,  3.25pair/s]\n"
     ]
    },
    {
     "name": "stdout",
     "output_type": "stream",
     "text": [
      "False Negatives: 211\n",
      "Mean FNR across all IDs in group synthpar/ST7: 57.9670%\n",
      "Total number of input pairs: 4992\n",
      "Selected 499 pairs for evaluation (10% of total)\n"
     ]
    },
    {
     "name": "stderr",
     "output_type": "stream",
     "text": [
      "Processing input pairs: 100%|██████████| 499/499 [02:22<00:00,  3.50pair/s]"
     ]
    },
    {
     "name": "stdout",
     "output_type": "stream",
     "text": [
      "False Positives: 37\n",
      "True Negatives: 462\n",
      "Mean FPR across all IDs in group synthpar/ST7: 7.4148%\n"
     ]
    },
    {
     "name": "stderr",
     "output_type": "stream",
     "text": [
      "\n"
     ]
    }
   ],
   "source": [
    "FNR(dataset_dir = 'synthpar/ST7', use_multiprocessing=True, num_cores=5)\n",
    "FPR(dataset_dir = 'synthpar/ST7', use_multiprocessing=True, num_cores=5, percentage=10)"
   ]
  },
  {
   "cell_type": "code",
   "execution_count": 9,
   "metadata": {},
   "outputs": [
    {
     "name": "stdout",
     "output_type": "stream",
     "text": [
      "364 total input pairs from 13 IDs.\n"
     ]
    },
    {
     "name": "stderr",
     "output_type": "stream",
     "text": [
      "Processing input pairs: 100%|██████████| 364/364 [01:48<00:00,  3.36pair/s]\n"
     ]
    },
    {
     "name": "stdout",
     "output_type": "stream",
     "text": [
      "False Negatives: 158\n",
      "Mean FNR across all IDs in group synthpar/ST8: 43.4066%\n",
      "Total number of input pairs: 4992\n",
      "Selected 499 pairs for evaluation (10% of total)\n"
     ]
    },
    {
     "name": "stderr",
     "output_type": "stream",
     "text": [
      "Processing input pairs: 100%|██████████| 499/499 [02:19<00:00,  3.57pair/s]"
     ]
    },
    {
     "name": "stdout",
     "output_type": "stream",
     "text": [
      "False Positives: 21\n",
      "True Negatives: 478\n",
      "Mean FPR across all IDs in group synthpar/ST8: 4.2084%\n"
     ]
    },
    {
     "name": "stderr",
     "output_type": "stream",
     "text": [
      "\n"
     ]
    }
   ],
   "source": [
    "FNR(dataset_dir = 'synthpar/ST8', use_multiprocessing=True, num_cores=5)\n",
    "FPR(dataset_dir = 'synthpar/ST8', use_multiprocessing=True, num_cores=5, percentage=10)"
   ]
  }
 ],
 "metadata": {
  "kernelspec": {
   "display_name": "base",
   "language": "python",
   "name": "python3"
  },
  "language_info": {
   "codemirror_mode": {
    "name": "ipython",
    "version": 3
   },
   "file_extension": ".py",
   "mimetype": "text/x-python",
   "name": "python",
   "nbconvert_exporter": "python",
   "pygments_lexer": "ipython3",
   "version": "3.12.4"
  }
 },
 "nbformat": 4,
 "nbformat_minor": 2
}
