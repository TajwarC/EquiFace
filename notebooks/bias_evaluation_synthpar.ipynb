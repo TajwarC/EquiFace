{
 "cells": [
  {
   "cell_type": "markdown",
   "metadata": {},
   "source": [
    "## Testing the bias in open source facial detection models"
   ]
  },
  {
   "cell_type": "code",
   "execution_count": null,
   "metadata": {},
   "outputs": [
    {
     "name": "stdout",
     "output_type": "stream",
     "text": [
      "WARNING:tensorflow:From c:\\Users\\tchoudhury\\AppData\\Local\\anaconda3\\Lib\\site-packages\\tf_keras\\src\\losses.py:2976: The name tf.losses.sparse_softmax_cross_entropy is deprecated. Please use tf.compat.v1.losses.sparse_softmax_cross_entropy instead.\n",
      "\n"
     ]
    }
   ],
   "source": [
    "import numpy as np\n",
    "import os\n",
    "import sys\n",
    "sys.path.append('FNR.py')\n",
    "sys.path.append('FPR.py')\n",
    "import FNR\n",
    "import FPR\n",
    "from FNR import FNR\n",
    "from FPR import FPR"
   ]
  },
  {
   "cell_type": "markdown",
   "metadata": {},
   "source": [
    "The dataset used is a minute fraction of the SynthPar2 dataset:https://huggingface.co/datasets/pravsels/synthpar \n",
    "\n",
    "The dataset is in the form:\n",
    "\n",
    "```\n",
    "synthpar/ST1/1.png\n",
    "...\n",
    "synthpar/ST1/n.png\n",
    "...\n",
    "synthpar/ST2/1.png\n",
    "...\n",
    "synthpar/ST2/n.png\n",
    ".\n",
    ".\n",
    ".\n",
    "synthpar/ST8\n",
    "```\n",
    "\n",
    "where each ST subfolder contains 13 identities and 8 variations of each ID. There are 8 different skin tone groups.\n",
    "\n",
    "In this experiment we are using the VGG Face model which is available from DeepFace: https://github.com/serengil/deepface/tree/master/deepface/models/facial_recognition"
   ]
  },
  {
   "cell_type": "code",
   "execution_count": 2,
   "metadata": {},
   "outputs": [],
   "source": [
    "dataset_dir = 'synthpar/ST1'"
   ]
  },
  {
   "cell_type": "markdown",
   "metadata": {},
   "source": [
    "The FNR is calculated by processing every possible input pair for each individual in each ST group. For example, in ST1, there are 13 unique IDs and 8 variations of each one (as is the case for all ST groups). The FNR function produces all possible comparison combinations for each of the 13 IDs, i.e. 28 input pairs for 13 IDs, and uses DeepFace ```verify``` to check if they are the same individual or not. A false negative is a prediction from the model that an input pair is not the same person, as the input pairs are all representative of the same person. "
   ]
  },
  {
   "cell_type": "code",
   "execution_count": 3,
   "metadata": {},
   "outputs": [
    {
     "name": "stdout",
     "output_type": "stream",
     "text": [
      "364 total input pairs from 13 IDs.\n"
     ]
    },
    {
     "name": "stderr",
     "output_type": "stream",
     "text": [
      "Processing input pairs: 100%|██████████| 364/364 [01:51<00:00,  3.25pair/s]\n"
     ]
    },
    {
     "name": "stdout",
     "output_type": "stream",
     "text": [
      "Mean FNR across all IDs in group synthpar/ST1: 62.09%\n"
     ]
    },
    {
     "data": {
      "text/plain": [
       "{'mean_FNR': 0.6208791208791209}"
      ]
     },
     "execution_count": 3,
     "metadata": {},
     "output_type": "execute_result"
    }
   ],
   "source": [
    "FNR(dataset_dir)"
   ]
  },
  {
   "cell_type": "markdown",
   "metadata": {},
   "source": [
    "made the dataset first and then run it all in one go with precompute steps"
   ]
  },
  {
   "cell_type": "markdown",
   "metadata": {},
   "source": [
    "The FPR is calculated in a similar fashion to above, but instead of comparing individuals to themselves, it compares individuals to other individuals. The function firstly computes all possible combinations (exlcuding combinations of individuals with themselves) and then inputs these pairs into ```verify```. To save on computation, the user is able to select a percentage of the total possible combinations, which then picks out a random number of input pairs from all combinations to test against. "
   ]
  },
  {
   "cell_type": "code",
   "execution_count": 4,
   "metadata": {},
   "outputs": [
    {
     "name": "stdout",
     "output_type": "stream",
     "text": [
      "Total number of input pairs: 4992\n",
      "Selected 499 pairs for evaluation (10% of total)\n"
     ]
    },
    {
     "name": "stderr",
     "output_type": "stream",
     "text": [
      "Processing input pairs: 100%|██████████| 499/499 [02:23<00:00,  3.48pair/s]"
     ]
    },
    {
     "name": "stdout",
     "output_type": "stream",
     "text": [
      "False Positives: 28\n",
      "True Negatives: 471\n",
      "False Positive Rate (FPR): 0.06\n",
      "True Negative Rate (TNR): 0.94\n"
     ]
    },
    {
     "name": "stderr",
     "output_type": "stream",
     "text": [
      "\n"
     ]
    }
   ],
   "source": [
    "FPR(dataset_dir, percentage=10)"
   ]
  },
  {
   "cell_type": "markdown",
   "metadata": {},
   "source": [
    "This process is then repeated for all ST groups.\n"
   ]
  },
  {
   "cell_type": "code",
   "execution_count": 5,
   "metadata": {},
   "outputs": [],
   "source": [
    "dataset_dir = 'synthpar/ST2'"
   ]
  },
  {
   "cell_type": "code",
   "execution_count": 6,
   "metadata": {},
   "outputs": [
    {
     "name": "stdout",
     "output_type": "stream",
     "text": [
      "364 total input pairs from 13 IDs.\n"
     ]
    },
    {
     "name": "stderr",
     "output_type": "stream",
     "text": [
      "Processing input pairs: 100%|██████████| 364/364 [01:50<00:00,  3.31pair/s]\n"
     ]
    },
    {
     "name": "stdout",
     "output_type": "stream",
     "text": [
      "Mean FNR across all IDs in group synthpar/ST2: 53.85%\n"
     ]
    },
    {
     "data": {
      "text/plain": [
       "{'mean_FNR': 0.5384615384615384}"
      ]
     },
     "execution_count": 6,
     "metadata": {},
     "output_type": "execute_result"
    }
   ],
   "source": [
    "FNR(dataset_dir)"
   ]
  },
  {
   "cell_type": "code",
   "execution_count": 7,
   "metadata": {},
   "outputs": [
    {
     "name": "stdout",
     "output_type": "stream",
     "text": [
      "Total number of input pairs: 4992\n",
      "Selected 499 pairs for evaluation (10% of total)\n"
     ]
    },
    {
     "name": "stderr",
     "output_type": "stream",
     "text": [
      "Processing input pairs: 100%|██████████| 499/499 [02:24<00:00,  3.46pair/s]"
     ]
    },
    {
     "name": "stdout",
     "output_type": "stream",
     "text": [
      "False Positives: 33\n",
      "True Negatives: 466\n",
      "False Positive Rate (FPR): 0.07\n",
      "True Negative Rate (TNR): 0.93\n"
     ]
    },
    {
     "name": "stderr",
     "output_type": "stream",
     "text": [
      "\n"
     ]
    }
   ],
   "source": [
    "FPR(dataset_dir, percentage=10)"
   ]
  },
  {
   "cell_type": "markdown",
   "metadata": {},
   "source": [
    "exclude pairs from same folder in FPR rate\n",
    "make number of testing pairs to be selectable"
   ]
  },
  {
   "cell_type": "code",
   "execution_count": 8,
   "metadata": {},
   "outputs": [],
   "source": [
    "dataset_dir = 'synthpar/ST3'"
   ]
  },
  {
   "cell_type": "code",
   "execution_count": 9,
   "metadata": {},
   "outputs": [
    {
     "name": "stdout",
     "output_type": "stream",
     "text": [
      "364 total input pairs from 13 IDs.\n"
     ]
    },
    {
     "name": "stderr",
     "output_type": "stream",
     "text": [
      "Processing input pairs:   0%|          | 0/364 [00:00<?, ?pair/s]"
     ]
    },
    {
     "name": "stderr",
     "output_type": "stream",
     "text": [
      "Processing input pairs: 100%|██████████| 364/364 [01:51<00:00,  3.26pair/s]\n"
     ]
    },
    {
     "name": "stdout",
     "output_type": "stream",
     "text": [
      "Mean FNR across all IDs in group synthpar/ST3: 55.49%\n"
     ]
    },
    {
     "data": {
      "text/plain": [
       "{'mean_FNR': 0.554945054945055}"
      ]
     },
     "execution_count": 9,
     "metadata": {},
     "output_type": "execute_result"
    }
   ],
   "source": [
    "FNR(dataset_dir)"
   ]
  },
  {
   "cell_type": "code",
   "execution_count": 10,
   "metadata": {},
   "outputs": [
    {
     "name": "stdout",
     "output_type": "stream",
     "text": [
      "Total number of input pairs: 4992\n",
      "Selected 499 pairs for evaluation (10% of total)\n"
     ]
    },
    {
     "name": "stderr",
     "output_type": "stream",
     "text": [
      "Processing input pairs: 100%|██████████| 499/499 [02:24<00:00,  3.45pair/s]"
     ]
    },
    {
     "name": "stdout",
     "output_type": "stream",
     "text": [
      "False Positives: 44\n",
      "True Negatives: 455\n",
      "False Positive Rate (FPR): 0.09\n",
      "True Negative Rate (TNR): 0.91\n"
     ]
    },
    {
     "name": "stderr",
     "output_type": "stream",
     "text": [
      "\n"
     ]
    }
   ],
   "source": [
    "FPR(dataset_dir, percentage=10)"
   ]
  },
  {
   "cell_type": "code",
   "execution_count": 11,
   "metadata": {},
   "outputs": [],
   "source": [
    "dataset_dir = 'synthpar/ST4'"
   ]
  },
  {
   "cell_type": "code",
   "execution_count": 12,
   "metadata": {},
   "outputs": [
    {
     "name": "stdout",
     "output_type": "stream",
     "text": [
      "364 total input pairs from 13 IDs.\n"
     ]
    },
    {
     "name": "stderr",
     "output_type": "stream",
     "text": [
      "Processing input pairs: 100%|██████████| 364/364 [01:51<00:00,  3.26pair/s]\n"
     ]
    },
    {
     "name": "stdout",
     "output_type": "stream",
     "text": [
      "Mean FNR across all IDs in group synthpar/ST4: 56.32%\n"
     ]
    },
    {
     "data": {
      "text/plain": [
       "{'mean_FNR': 0.5631868131868132}"
      ]
     },
     "execution_count": 12,
     "metadata": {},
     "output_type": "execute_result"
    }
   ],
   "source": [
    "FNR(dataset_dir)"
   ]
  },
  {
   "cell_type": "code",
   "execution_count": 13,
   "metadata": {},
   "outputs": [
    {
     "name": "stdout",
     "output_type": "stream",
     "text": [
      "Total number of input pairs: 4992\n",
      "Selected 499 pairs for evaluation (10% of total)\n"
     ]
    },
    {
     "name": "stderr",
     "output_type": "stream",
     "text": [
      "Processing input pairs: 100%|██████████| 499/499 [02:23<00:00,  3.48pair/s]"
     ]
    },
    {
     "name": "stdout",
     "output_type": "stream",
     "text": [
      "False Positives: 44\n",
      "True Negatives: 455\n",
      "False Positive Rate (FPR): 0.09\n",
      "True Negative Rate (TNR): 0.91\n"
     ]
    },
    {
     "name": "stderr",
     "output_type": "stream",
     "text": [
      "\n"
     ]
    }
   ],
   "source": [
    "FPR(dataset_dir, percentage=10)"
   ]
  },
  {
   "cell_type": "code",
   "execution_count": 14,
   "metadata": {},
   "outputs": [],
   "source": [
    "dataset_dir = 'synthpar/ST5'"
   ]
  },
  {
   "cell_type": "code",
   "execution_count": 15,
   "metadata": {},
   "outputs": [
    {
     "name": "stdout",
     "output_type": "stream",
     "text": [
      "364 total input pairs from 13 IDs.\n"
     ]
    },
    {
     "name": "stderr",
     "output_type": "stream",
     "text": [
      "Processing input pairs: 100%|██████████| 364/364 [01:50<00:00,  3.30pair/s]\n"
     ]
    },
    {
     "name": "stdout",
     "output_type": "stream",
     "text": [
      "Mean FNR across all IDs in group synthpar/ST5: 54.40%\n"
     ]
    },
    {
     "data": {
      "text/plain": [
       "{'mean_FNR': 0.543956043956044}"
      ]
     },
     "execution_count": 15,
     "metadata": {},
     "output_type": "execute_result"
    }
   ],
   "source": [
    "FNR(dataset_dir)"
   ]
  },
  {
   "cell_type": "code",
   "execution_count": 16,
   "metadata": {},
   "outputs": [
    {
     "name": "stdout",
     "output_type": "stream",
     "text": [
      "Total number of input pairs: 4992\n",
      "Selected 499 pairs for evaluation (10% of total)\n"
     ]
    },
    {
     "name": "stderr",
     "output_type": "stream",
     "text": [
      "Processing input pairs: 100%|██████████| 499/499 [02:22<00:00,  3.50pair/s]"
     ]
    },
    {
     "name": "stdout",
     "output_type": "stream",
     "text": [
      "False Positives: 29\n",
      "True Negatives: 470\n",
      "False Positive Rate (FPR): 0.06\n",
      "True Negative Rate (TNR): 0.94\n"
     ]
    },
    {
     "name": "stderr",
     "output_type": "stream",
     "text": [
      "\n"
     ]
    }
   ],
   "source": [
    "FPR(dataset_dir, percentage=10)"
   ]
  },
  {
   "cell_type": "code",
   "execution_count": 17,
   "metadata": {},
   "outputs": [],
   "source": [
    "dataset_dir = 'synthpar/ST6'"
   ]
  },
  {
   "cell_type": "code",
   "execution_count": 18,
   "metadata": {},
   "outputs": [
    {
     "name": "stdout",
     "output_type": "stream",
     "text": [
      "364 total input pairs from 13 IDs.\n"
     ]
    },
    {
     "name": "stderr",
     "output_type": "stream",
     "text": [
      "Processing input pairs: 100%|██████████| 364/364 [01:53<00:00,  3.20pair/s]\n"
     ]
    },
    {
     "name": "stdout",
     "output_type": "stream",
     "text": [
      "Mean FNR across all IDs in group synthpar/ST6: 46.98%\n"
     ]
    },
    {
     "data": {
      "text/plain": [
       "{'mean_FNR': 0.4697802197802198}"
      ]
     },
     "execution_count": 18,
     "metadata": {},
     "output_type": "execute_result"
    }
   ],
   "source": [
    "FNR(dataset_dir)"
   ]
  },
  {
   "cell_type": "code",
   "execution_count": 19,
   "metadata": {},
   "outputs": [
    {
     "name": "stdout",
     "output_type": "stream",
     "text": [
      "Total number of input pairs: 4992\n",
      "Selected 499 pairs for evaluation (10% of total)\n"
     ]
    },
    {
     "name": "stderr",
     "output_type": "stream",
     "text": [
      "Processing input pairs: 100%|██████████| 499/499 [02:23<00:00,  3.49pair/s]"
     ]
    },
    {
     "name": "stdout",
     "output_type": "stream",
     "text": [
      "False Positives: 39\n",
      "True Negatives: 460\n",
      "False Positive Rate (FPR): 0.08\n",
      "True Negative Rate (TNR): 0.92\n"
     ]
    },
    {
     "name": "stderr",
     "output_type": "stream",
     "text": [
      "\n"
     ]
    }
   ],
   "source": [
    "FPR(dataset_dir, percentage=10)"
   ]
  },
  {
   "cell_type": "code",
   "execution_count": 20,
   "metadata": {},
   "outputs": [],
   "source": [
    "dataset_dir = 'synthpar/ST7'"
   ]
  },
  {
   "cell_type": "code",
   "execution_count": 21,
   "metadata": {},
   "outputs": [
    {
     "name": "stdout",
     "output_type": "stream",
     "text": [
      "364 total input pairs from 13 IDs.\n"
     ]
    },
    {
     "name": "stderr",
     "output_type": "stream",
     "text": [
      "Processing input pairs: 100%|██████████| 364/364 [01:53<00:00,  3.22pair/s]\n"
     ]
    },
    {
     "name": "stdout",
     "output_type": "stream",
     "text": [
      "Mean FNR across all IDs in group synthpar/ST7: 57.97%\n"
     ]
    },
    {
     "data": {
      "text/plain": [
       "{'mean_FNR': 0.5796703296703296}"
      ]
     },
     "execution_count": 21,
     "metadata": {},
     "output_type": "execute_result"
    }
   ],
   "source": [
    "FNR(dataset_dir)"
   ]
  },
  {
   "cell_type": "code",
   "execution_count": 22,
   "metadata": {},
   "outputs": [
    {
     "name": "stdout",
     "output_type": "stream",
     "text": [
      "Total number of input pairs: 4992\n",
      "Selected 499 pairs for evaluation (10% of total)\n"
     ]
    },
    {
     "name": "stderr",
     "output_type": "stream",
     "text": [
      "Processing input pairs: 100%|██████████| 499/499 [02:20<00:00,  3.54pair/s]"
     ]
    },
    {
     "name": "stdout",
     "output_type": "stream",
     "text": [
      "False Positives: 44\n",
      "True Negatives: 455\n",
      "False Positive Rate (FPR): 0.09\n",
      "True Negative Rate (TNR): 0.91\n"
     ]
    },
    {
     "name": "stderr",
     "output_type": "stream",
     "text": [
      "\n"
     ]
    }
   ],
   "source": [
    "FPR(dataset_dir, percentage=10)"
   ]
  },
  {
   "cell_type": "code",
   "execution_count": 23,
   "metadata": {},
   "outputs": [],
   "source": [
    "dataset_dir = 'synthpar/ST8'"
   ]
  },
  {
   "cell_type": "code",
   "execution_count": 24,
   "metadata": {},
   "outputs": [
    {
     "name": "stdout",
     "output_type": "stream",
     "text": [
      "364 total input pairs from 13 IDs.\n"
     ]
    },
    {
     "name": "stderr",
     "output_type": "stream",
     "text": [
      "Processing input pairs: 100%|██████████| 364/364 [01:48<00:00,  3.36pair/s]\n"
     ]
    },
    {
     "name": "stdout",
     "output_type": "stream",
     "text": [
      "Mean FNR across all IDs in group synthpar/ST8: 43.68%\n"
     ]
    },
    {
     "data": {
      "text/plain": [
       "{'mean_FNR': 0.4368131868131868}"
      ]
     },
     "execution_count": 24,
     "metadata": {},
     "output_type": "execute_result"
    }
   ],
   "source": [
    "FNR(dataset_dir)"
   ]
  },
  {
   "cell_type": "code",
   "execution_count": 25,
   "metadata": {},
   "outputs": [
    {
     "name": "stdout",
     "output_type": "stream",
     "text": [
      "Total number of input pairs: 4992\n",
      "Selected 499 pairs for evaluation (10% of total)\n"
     ]
    },
    {
     "name": "stderr",
     "output_type": "stream",
     "text": [
      "Processing input pairs: 100%|██████████| 499/499 [02:19<00:00,  3.58pair/s]"
     ]
    },
    {
     "name": "stdout",
     "output_type": "stream",
     "text": [
      "False Positives: 26\n",
      "True Negatives: 473\n",
      "False Positive Rate (FPR): 0.05\n",
      "True Negative Rate (TNR): 0.95\n"
     ]
    },
    {
     "name": "stderr",
     "output_type": "stream",
     "text": [
      "\n"
     ]
    }
   ],
   "source": [
    "FPR(dataset_dir, percentage=10)"
   ]
  }
 ],
 "metadata": {
  "kernelspec": {
   "display_name": "base",
   "language": "python",
   "name": "python3"
  },
  "language_info": {
   "codemirror_mode": {
    "name": "ipython",
    "version": 3
   },
   "file_extension": ".py",
   "mimetype": "text/x-python",
   "name": "python",
   "nbconvert_exporter": "python",
   "pygments_lexer": "ipython3",
   "version": "3.12.4"
  }
 },
 "nbformat": 4,
 "nbformat_minor": 2
}
